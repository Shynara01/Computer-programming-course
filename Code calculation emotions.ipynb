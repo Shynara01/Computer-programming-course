{
 "cells": [
  {
   "cell_type": "code",
   "execution_count": null,
   "id": "4c177aa6",
   "metadata": {},
   "outputs": [],
   "source": [
    "import pandas as pd\n",
    "import numpy as np\n",
    "from scipy.stats import ttest_rel\n",
    "from sklearn.preprocessing import LabelEncoder\n",
    "file_path = 'C:\\\\Users\\\\Shyna\\\\OneDrive\\\\Рабочий стол\\\\computer programming\\\\Emotions and Coping Strategies of L1 (answers).xlsx'\n",
    "data = pd.read_excel(file_path)\n",
    "print(data.head())\n",
    "descriptive_stats = data.describe()\n",
    "print(descriptive_stats)\n",
    "# Define function to calculate Cronbach's alpha\n",
    "def cronbach_alpha(df):\n",
    "    items = df.shape[1]\n",
    "    variances_sum = df.var(axis=0, ddof=1).sum()\n",
    "    total_variance = df.sum(axis=1).var(ddof=1)\n",
    "    alpha = (items / (items - 1)) * (1 - (variances_sum / total_variance))\n",
    "    return alpha\n",
    "# Calculate Cronbach's alpha for each construct\n",
    "constructs = {\n",
    "    \"enjoyment\": data[[\"enjoy_1\", \"enjoy_2\", \"enjoy_3\", \"enjoy_4\"]],\n",
    "    \"anxiety\": data[[\"anx_1\", \"anx_2\", \"anx_3\", \"anx_4\"]],\n",
    "    \"boredom\": data[[\"bore_1\", \"bore_2\", \"bore_3\", \"bore_4\"]],\n",
    "    \"hope\": data[[\"hope_1\", \"hope_2\", \"hope_3\", \"hope_4\"]],\n",
    "    \"pride\": data[[\"pride_1\", \"pride_2\", \"pride_3\", \"pride_4\"]],\n",
    "    \"curiosity\": data[[\"curious_1\", \"curious_2\", \"curious_3\", \"curious_4\"]],\n",
    "    \"confusion\": data[[\"confuse_1\", \"confuse_2\", \"confuse_3\", \"confuse_4\"]],\n",
    "    \"shame\": data[[\"shame_1\", \"shame_2\", \"shame_3\", \"shame_4\"]]\n",
    "}\n",
    "cronbach_alphas = {construct: cronbach_alpha(items) for construct, items in constructs.items()}\n",
    "print(\"Cronbach's alpha values:\", cronbach_alphas)\n",
    "# Paired Sample T-tests\n",
    "pairs = [\n",
    "    (\"frustrated\", \"hope\"),\n",
    "    (\"confused\", \"curious\"),\n",
    "    (\"ashamed\", \"proud\"),\n",
    "    (\"bored\", \"interested\")\n",
    "]\n",
    "paired_ttest_results = {}\n",
    "for (neg_emotion, pos_emotion) in pairs:\n",
    "    t_stat, p_value = ttest_rel(data[neg_emotion], data[pos_emotion])\n",
    "    paired_ttest_results[f\"{neg_emotion} vs {pos_emotion}\"] = (t_stat, p_value)\n",
    "\n",
    "print(\"Paired t-test results:\", paired_ttest_results)"
   ]
  }
 ],
 "metadata": {
  "language_info": {
   "name": "python"
  }
 },
 "nbformat": 4,
 "nbformat_minor": 5
}
