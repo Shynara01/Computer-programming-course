{
 "cells": [
  {
   "cell_type": "code",
   "execution_count": null,
   "id": "1f5b6705",
   "metadata": {},
   "outputs": [],
   "source": [
    "import matplotlib.pyplot as plt\n",
    "import seaborn as sns\n",
    "import pandas as pd\n",
    "\n",
    "data = {\n",
    "    'Emotion': ['Enjoyment', 'Enjoyment', 'Enjoyment', 'Enjoyment', \n",
    "                'Anxiety', 'Anxiety', 'Anxiety', 'Anxiety', \n",
    "                'Boredom', 'Boredom', 'Boredom', 'Boredom',\n",
    "                'Hope', 'Hope', 'Hope', 'Hope',\n",
    "                'Pride', 'Pride', 'Pride', 'Pride',\n",
    "                'Curiosity', 'Curiosity', 'Curiosity', 'Curiosity',\n",
    "                'Confusion', 'Confusion', 'Confusion', 'Confusion',\n",
    "                'Shame', 'Shame', 'Shame', 'Shame'],\n",
    "    'Statement': ['Statement 1', 'Statement 2', 'Statement 3', 'Statement 4']*8,\n",
    "    'Mean': [4.36, 4.39, 4.04, 4.46,\n",
    "             3.46, 3.07, 2.79, 2.88,\n",
    "             2.25, 2.66, 2.50, 3.20,\n",
    "             4.14, 3.46, 3.89, 4.07,\n",
    "             4.50, 4.14, 4.30, 4.46,\n",
    "             3.57, 3.93, 3.70, 4.23,\n",
    "             3.75, 3.59, 3.04, 3.02,\n",
    "             3.21, 3.04, 2.98, 1.96],\n",
    "    'SD': [0.903, 0.623, 0.830, 0.538,\n",
    "           1.078, 0.970, 1.074, 1.010,\n",
    "           0.879, 0.920, 1.044, 1.052,\n",
    "           0.724, 0.830, 0.731, 0.850,\n",
    "           0.603, 0.841, 0.685, 0.538,\n",
    "           0.850, 0.871, 0.829, 0.687,\n",
    "           0.745, 0.910, 1.078, 1.053,\n",
    "           1.140, 0.972, 1.018, 0.972]\n",
    "}\n",
    "df = pd.DataFrame(data)\n",
    "\n",
    "plt.figure(figsize=(12, 8))\n",
    "\n",
    "sns.barplot(x='Emotion', y='Mean', hue='Statement', data=df, ci=None, palette='viridis')\n",
    "\n",
    "for i, row in df.iterrows():\n",
    "    plt.errorbar(row.name, row['Mean'], yerr=row['SD'], fmt='none', c='black', capsize=5)\n",
    "plt.title('Mean Ratings of Emotions with Standard Deviation')\n",
    "plt.xlabel('Emotion')\n",
    "plt.ylabel('Mean Rating')\n",
    "plt.ylim(0, 5)\n",
    "plt.legend(title='Statement')\n",
    "plt.xticks(rotation=45)\n",
    "plt.tight_layout()\n",
    "plt.show()\n",
    "\n"
   ]
  }
 ],
 "metadata": {
  "language_info": {
   "name": "python"
  }
 },
 "nbformat": 4,
 "nbformat_minor": 5
}
